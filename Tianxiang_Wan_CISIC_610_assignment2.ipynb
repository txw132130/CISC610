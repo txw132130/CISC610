{
 "cells": [
  {
   "cell_type": "code",
   "execution_count": 28,
   "metadata": {},
   "outputs": [],
   "source": [
    "## Start by defining a node as follows\n",
    "class Node:\n",
    "    def __init__(self, data=None):\n",
    "        self.data = data\n",
    "        self.next = None"
   ]
  },
  {
   "cell_type": "code",
   "execution_count": 39,
   "metadata": {},
   "outputs": [],
   "source": [
    " class Stack2:\n",
    "\n",
    "    def __init__(self):\n",
    "        self.top = None\n",
    "        self.size = 0\n",
    "        \n",
    "# Push/append operation\n",
    "    def push(self, data):\n",
    "        node = Node(data)  # encapsulate data in node\n",
    "        if self.top: # if the stack is not empty then add point the new node's next pointer to the top element\n",
    "            node.next = self.top\n",
    "            self.top = node \n",
    "        else: # Otherwise/if stack is empty the enw node will become the element at the top of the stack\n",
    "            self.top = node\n",
    "        self.size += 1 # After pushing an item we increment the list size by 1\n",
    "        \n",
    "# Pop/remove operation\n",
    "\n",
    "    def pop(self):\n",
    "        if self.top: # If list has elements, it would have one at the top of the stack\n",
    "            data = self.top.data\n",
    "            self.size -= 1\n",
    "            if self.top.next: # if stack is not empty then we need to make next node the top node\n",
    "                self.top = self.top.next\n",
    "            else:\n",
    "                self.top = None # Otherwise it's empty after pop operation\n",
    "            return data # returns the element\n",
    "        else:\n",
    "            return None # if list is initially empty, we cannot perform pop therefor returns None\n",
    "        \n",
    "    def peek(self):  \n",
    "        if self.top == None:  \n",
    "            return None    \n",
    "        else: \n",
    "            return self.top.data \n",
    "        \n",
    "    def size(self): \n",
    "        count = 0 \n",
    "        temp = self.top\n",
    "        while (temp): \n",
    "            count += 1\n",
    "            temp = temp.next\n",
    "        return count "
   ]
  },
  {
   "cell_type": "code",
   "execution_count": 35,
   "metadata": {},
   "outputs": [],
   "source": [
    "S2 = Stack2()"
   ]
  },
  {
   "cell_type": "code",
   "execution_count": 36,
   "metadata": {},
   "outputs": [],
   "source": [
    "S2.push(\"Hotel California\")\n",
    "S2.push(\"Iris\")\n",
    "S2.push(\"Sweet Home Alabama\")\n",
    "S2.push(\"Sweet Child of Mine\")\n",
    "S2.push(\"Amazing\")\n",
    "S2.push(\"Stairway to Heaven\")"
   ]
  },
  {
   "cell_type": "code",
   "execution_count": 37,
   "metadata": {},
   "outputs": [
    {
     "data": {
      "text/plain": [
       "'Stairway to Heaven'"
      ]
     },
     "execution_count": 37,
     "metadata": {},
     "output_type": "execute_result"
    }
   ],
   "source": [
    "S2.peek()"
   ]
  },
  {
   "cell_type": "code",
   "execution_count": 41,
   "metadata": {},
   "outputs": [
    {
     "data": {
      "text/plain": [
       "6"
      ]
     },
     "execution_count": 41,
     "metadata": {},
     "output_type": "execute_result"
    }
   ],
   "source": [
    "S2.size"
   ]
  },
  {
   "cell_type": "code",
   "execution_count": 42,
   "metadata": {},
   "outputs": [
    {
     "data": {
      "text/plain": [
       "'Stairway to Heaven'"
      ]
     },
     "execution_count": 42,
     "metadata": {},
     "output_type": "execute_result"
    }
   ],
   "source": [
    "S2.pop()"
   ]
  },
  {
   "cell_type": "code",
   "execution_count": 43,
   "metadata": {},
   "outputs": [
    {
     "data": {
      "text/plain": [
       "'Amazing'"
      ]
     },
     "execution_count": 43,
     "metadata": {},
     "output_type": "execute_result"
    }
   ],
   "source": [
    "S2.peek()"
   ]
  },
  {
   "cell_type": "code",
   "execution_count": 44,
   "metadata": {},
   "outputs": [
    {
     "data": {
      "text/plain": [
       "5"
      ]
     },
     "execution_count": 44,
     "metadata": {},
     "output_type": "execute_result"
    }
   ],
   "source": [
    "S2.size"
   ]
  },
  {
   "cell_type": "code",
   "execution_count": 45,
   "metadata": {},
   "outputs": [],
   "source": [
    "class Node(object): ## Create node class with data and next and previous pointers vars\n",
    "    def __init__(self, data=None, next=None, prev=None):\n",
    "        self.data = data\n",
    "        self.next = next\n",
    "        self.prev = prev"
   ]
  },
  {
   "cell_type": "code",
   "execution_count": 54,
   "metadata": {},
   "outputs": [],
   "source": [
    "class Queue: ## Create Queue class as an empty list \n",
    "    def __init__(self):\n",
    "        self.head = None\n",
    "        self.tail = None\n",
    "        self.count = 0\n",
    "\n",
    "# Define an enqueue operation\n",
    "\n",
    "    def enqueue(self, data):\n",
    "        new_node = Node(data, None, None) \n",
    "        if self.head is None:# IF the list is empty then the head will become the new node \n",
    "            self.head = new_node\n",
    "            self.tail = self.head # As there is only one element then point tail to head\n",
    "        else: # if list is not empty then we point the new node's prev pointer to the tail node\n",
    "            new_node.prev = self.tail \n",
    "            self.tail.next = new_node # Then we point the the tail node's next pointer to the new node\n",
    "            self.tail = new_node\n",
    "        self.count += 1 # Then we increment Queue by 1\n",
    "    # Define a dequeue operation\n",
    "\n",
    "    def dequeue(self):\n",
    "        current = self.head  # point current var to head of list\n",
    "        if self.count == 1:# if list only has one element \n",
    "            self.count -= 1 # decrement by 1\n",
    "            self.head = None # point head to None \n",
    "            self.tail = None # point tail to None effectively removing the element\n",
    "        elif self.count > 1: # IF Queue has more than one element\n",
    "            self.head = self.head.next # point queue's head pointer to the next element/node \n",
    "            self.head.prev = None  # point the the new head elemnt/node's previous pointer ot None\n",
    "            self.count -= 1 # decrement by 1\n",
    "    def listItem(self):\n",
    "         if self.head == None:  \n",
    "            return None    \n",
    "         else: \n",
    "            temp = self.head\n",
    "            while (temp):\n",
    "                print(temp.data)\n",
    "                temp = temp.next\n",
    "                \n",
    "                \n",
    "            "
   ]
  },
  {
   "cell_type": "code",
   "execution_count": 55,
   "metadata": {},
   "outputs": [],
   "source": [
    "Queue1 = Queue()"
   ]
  },
  {
   "cell_type": "code",
   "execution_count": 56,
   "metadata": {},
   "outputs": [],
   "source": [
    "Queue1.enqueue(\"Caller 1\")\n",
    "Queue1.enqueue(\"Caller 2\")\n",
    "Queue1.enqueue(\"Caller 3\")\n",
    "Queue1.enqueue(\"Caller 4\")\n",
    "Queue1.enqueue(\"Caller 5\")\n",
    "Queue1.enqueue(\"Caller 6\")\n",
    "Queue1.enqueue(\"Caller 7\")\n",
    "Queue1.enqueue(\"Caller 8\")"
   ]
  },
  {
   "cell_type": "code",
   "execution_count": 57,
   "metadata": {},
   "outputs": [
    {
     "name": "stdout",
     "output_type": "stream",
     "text": [
      "Caller 1\n",
      "Caller 2\n",
      "Caller 3\n",
      "Caller 4\n",
      "Caller 5\n",
      "Caller 6\n",
      "Caller 7\n",
      "Caller 8\n"
     ]
    }
   ],
   "source": [
    "Queue1.listItem()"
   ]
  },
  {
   "cell_type": "code",
   "execution_count": null,
   "metadata": {},
   "outputs": [],
   "source": []
  }
 ],
 "metadata": {
  "kernelspec": {
   "display_name": "Python 3",
   "language": "python",
   "name": "python3"
  },
  "language_info": {
   "codemirror_mode": {
    "name": "ipython",
    "version": 3
   },
   "file_extension": ".py",
   "mimetype": "text/x-python",
   "name": "python",
   "nbconvert_exporter": "python",
   "pygments_lexer": "ipython3",
   "version": "3.7.1"
  }
 },
 "nbformat": 4,
 "nbformat_minor": 2
}
